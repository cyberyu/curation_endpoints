{
 "cells": [
  {
   "cell_type": "code",
   "execution_count": 1,
   "metadata": {},
   "outputs": [],
   "source": [
    "import pickle\n",
    "\n",
    "with open('/mnt/curation_endpoints/WSModels/fuzzy_crf/flags.pkl' ,'rb') as f:\n",
    "    flags = pickle.load(f)"
   ]
  },
  {
   "cell_type": "code",
   "execution_count": 2,
   "metadata": {},
   "outputs": [
    {
     "data": {
      "text/plain": [
       "Namespace(batch_num_toks=256, batch_size=256, block_sz=500, dropout=0.1, entity_embed_sz=768, file_ext='', grad_clip_value=40, illegal_trans_penalty=10, initial_lr=0.001, initial_lr_em=0.001, iteration_to_begin_em=1, label_list=['O', 'B-PER', 'I-PER', 'B-ORG', 'I-ORG', 'B-LOC', 'I-LOC', 'B-MISC', 'I-MISC'], load_saved_model=False, local_data_path='/mnt/Data/TmpData/', lstm_chunk_sz=128, lstm_hidden_sz=768, lstm_num_layers=1, min_votes_during_warm_start=1, min_votes_for_token=1, min_votes_fuzzy=1, model_extension='fuzzy_crf', model_to_use='distilbert-base-cased', num_classes=8, num_restarts=3, numpy_seed=2019, reuse_embeddings=False, s3_data_path='annotation_tool/conll_data', source_names=['date_detector', 'time_detector', 'money_detector', 'proper_detector', 'infrequent_proper_detector', 'proper2_detector', 'infrequent_proper2_detector', 'nnp_detector', 'infrequent_nnp_detector', 'compound_detector', 'infrequent_compound_detector', 'misc_detector', 'legal_detector', 'company_type_detector', 'full_name_detector', 'number_detector', 'snips', 'BTC', 'BTC_truecase', 'edited_BTC', 'edited_BTC_truecase', 'wiki_cased', 'wiki_uncased', 'multitoken_wiki_cased', 'multitoken_wiki_uncased', 'wiki_small_cased', 'wiki_small_uncased', 'multitoken_wiki_small_cased', 'multitoken_wiki_small_uncased', 'geo_cased', 'geo_uncased', 'multitoken_geo_cased', 'multitoken_geo_uncased', 'crunchbase_cased', 'crunchbase_uncased', 'multitoken_crunchbase_cased', 'multitoken_crunchbase_uncased', 'products_cased', 'products_uncased', 'multitoken_products_cased', 'multitoken_products_uncased'], source_to_ind={'date_detector': 0, 'time_detector': 1, 'money_detector': 2, 'proper_detector': 3, 'infrequent_proper_detector': 4, 'proper2_detector': 5, 'infrequent_proper2_detector': 6, 'nnp_detector': 7, 'infrequent_nnp_detector': 8, 'compound_detector': 9, 'infrequent_compound_detector': 10, 'misc_detector': 11, 'legal_detector': 12, 'company_type_detector': 13, 'full_name_detector': 14, 'number_detector': 15, 'snips': 16, 'BTC': 17, 'BTC_truecase': 18, 'edited_BTC': 19, 'edited_BTC_truecase': 20, 'wiki_cased': 21, 'wiki_uncased': 22, 'multitoken_wiki_cased': 23, 'multitoken_wiki_uncased': 24, 'wiki_small_cased': 25, 'wiki_small_uncased': 26, 'multitoken_wiki_small_cased': 27, 'multitoken_wiki_small_uncased': 28, 'geo_cased': 29, 'geo_uncased': 30, 'multitoken_geo_cased': 31, 'multitoken_geo_uncased': 32, 'crunchbase_cased': 33, 'crunchbase_uncased': 34, 'multitoken_crunchbase_cased': 35, 'multitoken_crunchbase_uncased': 36, 'products_cased': 37, 'products_uncased': 38, 'multitoken_products_cased': 39, 'multitoken_products_uncased': 40}, train_iterations=7, train_models=1, use_lstm=1, use_token_level_spans=1, weak_supervision_model='fuzzy_crf')"
      ]
     },
     "execution_count": 2,
     "metadata": {},
     "output_type": "execute_result"
    }
   ],
   "source": [
    "flags"
   ]
  },
  {
   "cell_type": "code",
   "execution_count": 5,
   "metadata": {},
   "outputs": [
    {
     "data": {
      "text/plain": [
       "False"
      ]
     },
     "execution_count": 5,
     "metadata": {},
     "output_type": "execute_result"
    }
   ],
   "source": [
    "hasattr(flags, 'weak_supervision') # _model')"
   ]
  },
  {
   "cell_type": "code",
   "execution_count": null,
   "metadata": {},
   "outputs": [],
   "source": []
  }
 ],
 "metadata": {
  "kernelspec": {
   "display_name": "Python 3",
   "language": "python",
   "name": "python3"
  },
  "language_info": {
   "codemirror_mode": {
    "name": "ipython",
    "version": 3
   },
   "file_extension": ".py",
   "mimetype": "text/x-python",
   "name": "python",
   "nbconvert_exporter": "python",
   "pygments_lexer": "ipython3",
   "version": "3.6.10"
  }
 },
 "nbformat": 4,
 "nbformat_minor": 4
}
